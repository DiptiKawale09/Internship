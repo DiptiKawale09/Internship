{
 "cells": [
  {
   "cell_type": "code",
   "execution_count": null,
   "id": "ddc7dcb5",
   "metadata": {},
   "outputs": [],
   "source": [
    "!pip install selenium"
   ]
  },
  {
   "cell_type": "code",
   "execution_count": null,
   "id": "11b9e182",
   "metadata": {},
   "outputs": [],
   "source": [
    "import selenium\n",
    "import pandas as pd\n",
    "from selenium import webdriver\n",
    "import warnings\n",
    "warnings.filterwarnings('ignore')\n",
    "from selenium.webdriver.common.by import By\n",
    "import time\n"
   ]
  },
  {
   "cell_type": "markdown",
   "id": "7a412509",
   "metadata": {},
   "source": [
    "Q1: Write a python program to scrape data for “Data Analyst” Job position in “Bangalore” location. You\n",
    "have to scrape the job-title, job-location, company_name, experience_required. You have to scrape first 10\n",
    "jobs data.\n",
    "This task will be done in following steps:\n",
    "1. First get the webpage https://www.shine.com/\n",
    "2. Enter “Data Analyst” in “Job title, Skills” field and enter “Bangalore” in “enter the location” field.\n",
    "3. Then click the searchbutton.\n",
    "4. Then scrape the data for the first 10 jobs results you get.\n",
    "5. Finally create a dataframe of the scraped data.\n",
    "Note: All of the above steps have to be done in code. No step is to be done manually."
   ]
  },
  {
   "cell_type": "code",
   "execution_count": null,
   "id": "3c31d3aa",
   "metadata": {},
   "outputs": [],
   "source": [
    "driver = webdriver.Chrome()"
   ]
  },
  {
   "cell_type": "code",
   "execution_count": null,
   "id": "16252f42",
   "metadata": {},
   "outputs": [],
   "source": [
    "driver.get(\"https://www.shine.com/\")"
   ]
  },
  {
   "cell_type": "code",
   "execution_count": null,
   "id": "5638f4a0",
   "metadata": {},
   "outputs": [],
   "source": [
    "search = driver.find_element(By.XPATH,\"/html/body/div[1]/header[2]/div[2]/div[1]/span/span[1]\")\n",
    "search.click()"
   ]
  },
  {
   "cell_type": "code",
   "execution_count": null,
   "id": "e58a9026",
   "metadata": {},
   "outputs": [],
   "source": [
    "designation = driver.find_element(By.CLASS_NAME,\"form-control  \")\n",
    "designation.send_keys(\"Data Analyst\")\n",
    "location = driver.find_element(By.XPATH,\"/html/body/div[1]/div[4]/div/div[2]/div[2]/div/form/div/div[1]/ul/li[2]/div/input\")\n",
    "location.send_keys('Bangalore')\n"
   ]
  },
  {
   "cell_type": "code",
   "execution_count": null,
   "id": "aea80107",
   "metadata": {},
   "outputs": [],
   "source": [
    "search = driver.find_element(By.XPATH,\"/html/body/div[1]/div[4]/div/div[2]/div[2]/div/form/div/div[2]/div/button\")\n",
    "search.click()"
   ]
  },
  {
   "cell_type": "code",
   "execution_count": null,
   "id": "3491f16b",
   "metadata": {},
   "outputs": [],
   "source": [
    "job_title=[]\n",
    "job_location=[]\n",
    "company_name=[]\n",
    "experience_required=[]"
   ]
  },
  {
   "cell_type": "code",
   "execution_count": null,
   "id": "0c7e615f",
   "metadata": {},
   "outputs": [],
   "source": [
    "#scraping job title from the page\n",
    "title_tags= driver.find_elements(By.XPATH,'//h2[@itemprop=\"name\"]')\n",
    "for i in title_tags[0:10]:\n",
    "    title=i.text\n",
    "    job_title.append(title)\n",
    "    \n",
    "#Scraping job location from the given page\n",
    "location_tags=driver.find_elements(By.XPATH,'//div[@class=\" jobCard_jobCard_lists_item__YxRkV jobCard_locationIcon__zrWt2\"]')\n",
    "for i in location_tags[0:10]:\n",
    "    location=i.text\n",
    "    job_location.append(location)\n",
    "    \n",
    "#Scraping Company name from the given page\n",
    "company_tags=driver.find_elements(By.XPATH,'//div[@class=\"jobCard_jobCard_cName__mYnow\"]')\n",
    "for i in company_tags[0:10]:\n",
    "    comp=i.text\n",
    "    company_name.append(comp)\n",
    "    \n",
    "#Scraping job experiance from the given page\n",
    "experiance_tags=driver.find_elements(By.XPATH,'//div[@class=\" jobCard_jobCard_lists_item__YxRkV jobCard_jobIcon__3FB1t\"]')\n",
    "for i in experiance_tags[0:10]:\n",
    "    exp=i.text\n",
    "    experience_required.append(exp)\n",
    "    \n",
    "    \n"
   ]
  },
  {
   "cell_type": "code",
   "execution_count": null,
   "id": "05af37f6",
   "metadata": {},
   "outputs": [],
   "source": []
  },
  {
   "cell_type": "code",
   "execution_count": null,
   "id": "36f97b0a",
   "metadata": {},
   "outputs": [],
   "source": [
    "df=pd.DataFrame({'Title':job_title,'Location':job_location,'Comapany_name':company_name,'Experiance':experience_required})\n",
    "df"
   ]
  },
  {
   "cell_type": "markdown",
   "id": "79c5e07f",
   "metadata": {},
   "source": [
    "Q2:Write a python program to scrape data for “Data Scientist” Job position in“Bangalore” location. You\n",
    "have to scrape the job-title, job-location, company_name. You have to scrape first 10 jobs data.\n",
    "This task will be done in following steps:\n",
    "1. First get the webpage https://www.shine.com/\n",
    "2. Enter “Data Scientist” in “Job title, Skills” field and enter “Bangalore” in “enter thelocation” field.\n",
    "3. Then click the search button.\n",
    "4. Then scrape the data for the first 10 jobs results you get.\n",
    "5. Finally create a dataframe of the scraped data.\n",
    "Note: All of the above steps have to be done in code. No step is to be done manually."
   ]
  },
  {
   "cell_type": "code",
   "execution_count": null,
   "id": "cb4c63fc",
   "metadata": {},
   "outputs": [],
   "source": [
    "driver = webdriver.Chrome()\n",
    "driver.get(\"https://www.shine.com/\")"
   ]
  },
  {
   "cell_type": "code",
   "execution_count": null,
   "id": "25d0ce7e",
   "metadata": {},
   "outputs": [],
   "source": [
    "search = driver.find_element(By.XPATH,\"/html/body/div[1]/header[2]/div[2]/div[1]/span/span[1]\")\n",
    "search.click()"
   ]
  },
  {
   "cell_type": "code",
   "execution_count": null,
   "id": "9ebe0acc",
   "metadata": {},
   "outputs": [],
   "source": [
    "\n",
    "\n",
    "designation = driver.find_element(By.CLASS_NAME,\"form-control  \")\n",
    "designation.send_keys(\"Data Scientist\")\n",
    "location = driver.find_element(By.XPATH,\"/html/body/div[1]/div[4]/div/div[2]/div[2]/div/form/div/div[1]/ul/li[2]/div/input\")\n",
    "location.send_keys('Bangalore')\n",
    "search = driver.find_element(By.CLASS_NAME,\"searchForm_btnWrap_advance__VYBHN\")\n",
    "search.click()"
   ]
  },
  {
   "cell_type": "code",
   "execution_count": null,
   "id": "da973146",
   "metadata": {},
   "outputs": [],
   "source": [
    "job_title=[]\n",
    "job_location=[]\n",
    "company_name=[]\n",
    "experience_required=[]\n",
    "\n",
    "#scraping job title from the page\n",
    "title_tags= driver.find_elements(By.XPATH,'//h2[@itemprop=\"name\"]')\n",
    "for i in title_tags[0:10]:\n",
    "    title=i.text\n",
    "    job_title.append(title)\n",
    "    \n",
    "    \n",
    "#Scraping job location from the given page\n",
    "location_tags=driver.find_elements(By.XPATH,'//div[@class=\" jobCard_jobCard_lists_item__YxRkV jobCard_locationIcon__zrWt2\"]')\n",
    "for i in location_tags[0:10]:\n",
    "    location=i.text\n",
    "    job_location.append(location)\n",
    "    \n",
    "#Scraping Company name from the given page\n",
    "company_tags=driver.find_elements(By.XPATH,'//div[@class=\"jobCard_jobCard_cName__mYnow\"]')\n",
    "for i in company_tags[0:10]:\n",
    "    comp=i.text\n",
    "    company_name.append(comp)\n",
    "    \n",
    "#Scraping job experiance from the given page\n",
    "experiance_tags=driver.find_elements(By.XPATH,'//div[@class=\" jobCard_jobCard_lists_item__YxRkV jobCard_jobIcon__3FB1t\"]')\n",
    "for i in experiance_tags[0:10]:\n",
    "    exp=i.text\n",
    "    experience_required.append(exp)"
   ]
  },
  {
   "cell_type": "code",
   "execution_count": null,
   "id": "653623bd",
   "metadata": {},
   "outputs": [],
   "source": [
    "job_title"
   ]
  },
  {
   "cell_type": "code",
   "execution_count": null,
   "id": "85797f57",
   "metadata": {},
   "outputs": [],
   "source": [
    "df=pd.DataFrame({'Title':job_title,'Location':job_location,'Comapany_name':company_name,'Experiance':experience_required})\n",
    "df"
   ]
  },
  {
   "cell_type": "markdown",
   "id": "db730e66",
   "metadata": {},
   "source": [
    "Q3:  In this question you have to scrape data using the filters available on the webpage\n",
    " You have to use the location and salary filter.\n",
    "You have to scrape data for “Data Scientist” designation for first 10 job results.\n",
    "You have to scrape the job-title, job-location, company name, experience required.\n",
    "The location filter to be used is “Delhi/NCR”. The salary filter to be used is “3-6” lakhs\n",
    "The task will be done as shown in the below steps:\n",
    "1. first get the web page https://www.shine.com/\n",
    "2. Enter “Data Scientist” in “Skill, Designations, and Companies” field.\n",
    "3. Then click the search button.\n",
    "4. Then apply the location filter and salary filter by checking the respective boxes\n",
    "5. Then scrape the data for the first 10 jobs results you get.\n",
    "6. Finally create a dataframe of the scrapeddata.\n",
    "Note: All of the above steps have to be done in code. No step is to be done manually."
   ]
  },
  {
   "cell_type": "code",
   "execution_count": null,
   "id": "4ae24820",
   "metadata": {},
   "outputs": [],
   "source": [
    "driver = webdriver.Chrome()\n",
    "driver.get(\"https://www.shine.com/\")"
   ]
  },
  {
   "cell_type": "code",
   "execution_count": null,
   "id": "003f02ae",
   "metadata": {},
   "outputs": [],
   "source": [
    "designation = driver.find_element(By.CLASS_NAME,\"input\")\n",
    "designation.send_keys(\"Data Scientist\")\n",
    "\n"
   ]
  },
  {
   "cell_type": "code",
   "execution_count": null,
   "id": "d6c164fd",
   "metadata": {},
   "outputs": [],
   "source": [
    "designation = driver.find_element(By.CLASS_NAME,\"form-control \")\n",
    "designation.send_keys(\"Data Scientist\")\n",
    "\n",
    " \n",
    "search = driver.find_element(By.XPATH,\"/html/body/div[1]/div[4]/div/div[2]/div[2]/div/form/div/div[2]/div/button\")\n",
    "search.click()"
   ]
  },
  {
   "cell_type": "code",
   "execution_count": null,
   "id": "072f7a58",
   "metadata": {},
   "outputs": [],
   "source": [
    "location_filter= driver.find_element(By.XPATH,'//label[@for=\"filter_jFLoc_406\"]')\n",
    "location_filter.click()\n",
    "salary_filter=driver.find_element(By.XPATH,'//label[@for=\"filter_jFEx_3\"]')\n",
    "salary_filter.click()\n"
   ]
  },
  {
   "cell_type": "code",
   "execution_count": null,
   "id": "8652dcd6",
   "metadata": {},
   "outputs": [],
   "source": [
    "job_title=[]\n",
    "job_location=[]\n",
    "company_name=[]\n",
    "experience_required=[]\n",
    "\n",
    "#scraping job title from the page\n",
    "title_tags= driver.find_elements(By.XPATH,'//h2[@itemprop=\"name\"]')\n",
    "for i in title_tags[0:10]:\n",
    "    title=i.text\n",
    "    job_title.append(title)\n",
    "    \n",
    "#Scraping job location from the given page\n",
    "location_tags=driver.find_elements(By.XPATH,'//div[@class=\" jobCard_jobCard_lists_item__YxRkV jobCard_locationIcon__zrWt2\"]')\n",
    "for i in location_tags[0:10]:\n",
    "    location=i.text\n",
    "    job_location.append(location)\n",
    "    \n",
    "#Scraping Company name from the given page\n",
    "company_tags=driver.find_elements(By.XPATH,'//div[@class=\"jobCard_jobCard_cName__mYnow\"]')\n",
    "for i in company_tags[0:10]:\n",
    "    comp=i.text\n",
    "    company_name.append(comp)\n",
    "    \n",
    "#Scraping job experiance from the given page\n",
    "experiance_tags=driver.find_elements(By.XPATH,'//div[@class=\" jobCard_jobCard_lists_item__YxRkV jobCard_jobIcon__3FB1t\"]')\n",
    "for i in experiance_tags[0:10]:\n",
    "    exp=i.text\n",
    "    experience_required.append(exp)"
   ]
  },
  {
   "cell_type": "code",
   "execution_count": null,
   "id": "fec8f83a",
   "metadata": {},
   "outputs": [],
   "source": [
    "df=pd.DataFrame({'Title':job_title,'Location':job_location,'Comapany_name':company_name,'Experiance':experience_required})\n",
    "df"
   ]
  },
  {
   "cell_type": "markdown",
   "id": "e01fb72f",
   "metadata": {},
   "source": [
    "Q4: Scrape data of first 100 sunglasses listings on flipkart.com. You have to scrape four attributes:\n",
    "6. Brand\n",
    "7. ProductDescription\n",
    "8. Price\n",
    "The attributes which you have to scrape is ticked marked in the below image.\n",
    "To scrape the data you have to go through following steps:\n",
    "1. Go to Flipkart webpage by url :https://www.flipkart.com/\n",
    "2. Enter “sunglasses” in the search fieldwhere “search for products, brands and more” is written and\n",
    "click the search icon\n",
    "3. After that you will reach to the page having a lot of sunglasses. From this page you can scrap the\n",
    "required data as usual.\n",
    "4. After scraping data from the first page, go to the “Next” Button at the bottom other page , then\n",
    "click on it.\n",
    "5. Now scrape data from this page as usual\n",
    "6. Repeat this until you get data for 100sunglasses.\n",
    "Note: That all of the above steps have to be done by coding only and not manually.\n"
   ]
  },
  {
   "cell_type": "code",
   "execution_count": null,
   "id": "655fdc2c",
   "metadata": {},
   "outputs": [],
   "source": [
    "driver = webdriver.Chrome()\n",
    "driver.get(\"https://www.flipkart.com/\")\n",
    "product_search = driver.find_element(By.CLASS_NAME,\"Pke_EE\")\n",
    "product_search.send_keys(\"sunglasses\")\n",
    "search = driver.find_element(By.CLASS_NAME,\"_2iLD__\")\n",
    "search.click()"
   ]
  },
  {
   "cell_type": "code",
   "execution_count": null,
   "id": "223dde45",
   "metadata": {},
   "outputs": [],
   "source": [
    "prod_name=[]\n",
    "prod_price=[]\n",
    "prod_desc=[]\n",
    "prod_discount=[]\n",
    "start=0\n",
    "end=10\n",
    "for page in range(start,end):\n",
    "    name= driver.find_elements(By.XPATH,'//div[@class=\"_2WkVRV\"]')\n",
    "    for i in name[0:10]:\n",
    "        prod_name.append(i.text)\n",
    "    \n",
    "    price=driver.find_elements(By.XPATH,'//div[@class=\"_30jeq3\"]')\n",
    "    for i in price[0:10]:\n",
    "        prod_price.append(i.text)\n",
    "        \n",
    "    desc=driver.find_elements(By.XPATH,'//a[@class=\"IRpwTa\"]')\n",
    "    for i in desc[0:10]:\n",
    "        prod_desc.append(i.text)\n",
    "    \n",
    "    discount=driver.find_elements(By.XPATH,'//div[@class=\"_3Ay6Sb\"]')\n",
    "    for i in discount[0:10]:\n",
    "        prod_discount.append(i.text)\n",
    "        \n",
    "    next_button= driver.find_element(By.XPATH,'//a[@class=\"_1LKTO3\"]')\n",
    "        # scrap data from next button\n",
    "    next_button.click()\n",
    "    time.sleep(3)"
   ]
  },
  {
   "cell_type": "code",
   "execution_count": null,
   "id": "f0db8a7a",
   "metadata": {},
   "outputs": [],
   "source": [
    "len(prod_name),len(prod_discount),len(prod_desc),len(prod_price),"
   ]
  },
  {
   "cell_type": "code",
   "execution_count": null,
   "id": "adb519a4",
   "metadata": {},
   "outputs": [],
   "source": [
    "df=pd.DataFrame({'Name':prod_name,'Description':prod_desc,'Discount':prod_discount,'Price':prod_price})\n",
    "df"
   ]
  },
  {
   "cell_type": "markdown",
   "id": "2ec39359",
   "metadata": {},
   "source": []
  },
  {
   "cell_type": "markdown",
   "id": "5111120c",
   "metadata": {},
   "source": [
    "Q5: Scrape 100 reviews data from flipkart.com for iphone11 phone. You have to go the link:\n",
    "https://www.flipkart.com/apple-iphone-11-black-64-gb/productreviews/itm4e5041ba101fd?pid=MOBFWQ6BXGJCEYNY&lid=LSTMOBFWQ6BXGJCEYNYZXSHRJ&marketplace=FLIPKART\n",
    "As shown in the above page you have to scrape the tick marked attributes. These are:\n",
    "1. Rating\n",
    "2. Review summary\n",
    "3. Full review\n",
    "4. You have to scrape this data for first 100reviews.\n",
    "Note: All the steps required during scraping should be done through code only and not manually."
   ]
  },
  {
   "cell_type": "code",
   "execution_count": null,
   "id": "da6612bc",
   "metadata": {},
   "outputs": [],
   "source": [
    "driver = webdriver.Chrome()\n",
    "driver.get(\"https://www.flipkart.com/apple-iphone-11-black-64-gb/product-reviews/itm4e5041ba101fd?pid=MOBFWQ6BXGJCEYNY&lid=LSTMOBFWQ6BXGJCEYNYZXSHRJ&market\")"
   ]
  },
  {
   "cell_type": "code",
   "execution_count": null,
   "id": "9a1461fc",
   "metadata": {},
   "outputs": [],
   "source": [
    "ratings_data=[]\n",
    "review_summary=[]\n",
    "full_review=[]\n",
    "start=0\n",
    "end=10\n",
    "\n",
    "for page in range(start,end):\n",
    "    rating_tags=driver.find_elements(By.XPATH,'//div[@class=\"_3LWZlK _1BLPMq\"]')\n",
    "    for i in rating_tags:\n",
    "        ratings=i.text\n",
    "        ratings_data.append(ratings)\n",
    "        \n",
    "    \n",
    "    \n",
    "    review_sum=driver.find_elements(By.XPATH,'//p[@class=\"_2-N8zT\"]')\n",
    "    for i in review_sum:\n",
    "        summery=i.text\n",
    "        review_summary.append(summery)\n",
    "    \n",
    "    \n",
    "    desc=driver.find_elements(By.XPATH,'//div[@class=\"t-ZTKy\"]')\n",
    "    for i in desc:\n",
    "        review=i.text\n",
    "        full_review.append(review)\n",
    "    \n",
    "    next_button= driver.find_element(By.XPATH,'//a[@class=\"_1LKTO3\"]')\n",
    "        # scrap data from next button\n",
    "    next_button.click()\n",
    "    time.sleep(3)\n",
    "    \n",
    "\n",
    "\n",
    "\n",
    "\n"
   ]
  },
  {
   "cell_type": "code",
   "execution_count": null,
   "id": "186358e4",
   "metadata": {},
   "outputs": [],
   "source": [
    "len(ratings_data),len(review_summary),len(full_review)"
   ]
  },
  {
   "cell_type": "code",
   "execution_count": null,
   "id": "0816880a",
   "metadata": {},
   "outputs": [],
   "source": [
    "df=pd.DataFrame({'Rating':ratings_data,'Review Summary':review_summary,'Full Review':full_review})\n",
    "df"
   ]
  },
  {
   "cell_type": "markdown",
   "id": "515e6ade",
   "metadata": {},
   "source": [
    "Q6: Scrape data forfirst 100 sneakers you find whenyou visit flipkart.com and search for “sneakers” inthe\n",
    "search field.\n",
    "You have to scrape 3 attributes of each sneaker:\n",
    "1. Brand\n",
    "2. ProductDescription\n",
    "3. Price\n",
    "As shown in the below image, you have to scrape the above attributes."
   ]
  },
  {
   "cell_type": "code",
   "execution_count": null,
   "id": "166b4b22",
   "metadata": {},
   "outputs": [],
   "source": [
    "driver = webdriver.Chrome()\n",
    "driver.get(\"https://www.flipkart.com/\")\n"
   ]
  },
  {
   "cell_type": "code",
   "execution_count": null,
   "id": "e4b5d712",
   "metadata": {},
   "outputs": [],
   "source": [
    "product_search = driver.find_element(By.CLASS_NAME,\"Pke_EE\")\n",
    "product_search.send_keys(\"sneakers\")\n",
    "search = driver.find_element(By.CLASS_NAME,\"_2iLD__\")\n",
    "search.click()"
   ]
  },
  {
   "cell_type": "code",
   "execution_count": null,
   "id": "a90bf425",
   "metadata": {},
   "outputs": [],
   "source": [
    "prod_name=[]\n",
    "prod_price=[]\n",
    "prod_desc=[]\n",
    "\n",
    "start=0\n",
    "end=10\n",
    "for page in range(start,end):\n",
    "    name= driver.find_elements(By.XPATH,'//div[@class=\"_2WkVRV\"]')\n",
    "    for i in name[0:10]:\n",
    "        prod_name.append(i.text)\n",
    "    \n",
    "    price=driver.find_elements(By.XPATH,'//div[@class=\"_30jeq3\"]')\n",
    "    for i in price[0:10]:\n",
    "        prod_price.append(i.text)\n",
    "        \n",
    "    desc=driver.find_elements(By.XPATH,'//a[@class=\"IRpwTa\"]')\n",
    "    for i in desc[0:10]:\n",
    "        prod_desc.append(i.text)\n",
    "    \n",
    "           \n",
    "    next_button= driver.find_element(By.XPATH,'//a[@class=\"_1LKTO3\"]')\n",
    "        # scrap data from next button\n",
    "    next_button.click()\n",
    "    time.sleep(3)\n",
    "    \n"
   ]
  },
  {
   "cell_type": "code",
   "execution_count": null,
   "id": "12f1acfb",
   "metadata": {},
   "outputs": [],
   "source": [
    "len(prod_name),len(prod_price),len(prod_desc)"
   ]
  },
  {
   "cell_type": "code",
   "execution_count": null,
   "id": "c6601d5c",
   "metadata": {},
   "outputs": [],
   "source": [
    "df=pd.DataFrame({'Product Name':prod_name,'Price':prod_price,'Description':prod_desc})\n",
    "df"
   ]
  },
  {
   "cell_type": "markdown",
   "id": "2a9b577f",
   "metadata": {},
   "source": [
    "Q7: Go to webpage https://www.amazon.in/ Enter “Laptop” in the search field and then click the search icon. Then\n",
    "set CPU Type filter to “Intel Core i7” as shown in the below image:\n",
    "After setting the filters scrape first 10 laptops data. You have to scrape 3 attributes for each laptop:\n",
    "1. Title\n",
    "2. Ratings\n",
    "3. Price\n"
   ]
  },
  {
   "cell_type": "code",
   "execution_count": null,
   "id": "7c1a1223",
   "metadata": {},
   "outputs": [],
   "source": [
    "driver = webdriver.Chrome()\n",
    "driver.get(\"https://www.amazon.in/\")\n"
   ]
  },
  {
   "cell_type": "code",
   "execution_count": null,
   "id": "ad78626b",
   "metadata": {},
   "outputs": [],
   "source": [
    "product_search = driver.find_element(By.XPATH,\"/html/body/div[1]/header/div/div[1]/div[2]/div/form/div[2]/div[1]/input\")\n",
    "product_search.send_keys(\"Laptop\")\n",
    "search = driver.find_element(By.XPATH,\"/html/body/div[1]/header/div/div[1]/div[2]/div/form/div[3]/div/span/input\")\n",
    "search.click()\n",
    "\n"
   ]
  },
  {
   "cell_type": "code",
   "execution_count": null,
   "id": "cd212c73",
   "metadata": {},
   "outputs": [],
   "source": [
    "\n",
    "\n",
    "cpu_type_filter = driver.find_element(By.XPATH,\"/html/body/div[1]/div[2]/div[1]/div[2]/div/div[3]/span/div[1]/div/div/div[6]/ul[7]/span[9]/li/span/a/span\")\n",
    "cpu_type_filter.click()\n"
   ]
  },
  {
   "cell_type": "code",
   "execution_count": null,
   "id": "7e75d02e",
   "metadata": {},
   "outputs": [],
   "source": [
    "prod_name=[]\n",
    "prod_price=[]\n",
    "prod_rating=[]\n",
    "\n",
    "name = driver.find_elements(By.XPATH,'//span[@class=\"a-size-medium a-color-base a-text-normal\"]')\n",
    "for i in name[0:10]:\n",
    "    prod_name.append(i.text)\n",
    "    \n",
    "price=driver.find_elements(By.XPATH,'//span[@class=\"a-price-whole\"]')\n",
    "for i in price[0:10]:\n",
    "    prod_price.append(i.text)\n",
    "\n",
    "rating=driver.find_elements(By.XPATH,'//span[@class=\"a-size-base puis-normal-weight-text\"]')\n",
    "for i in rating[0:10]:\n",
    "    prod_rating.append(i.text)\n",
    "        \n",
    "\n",
    "    \n",
    "    \n",
    "    \n",
    "         \n",
    "  \n",
    "\n"
   ]
  },
  {
   "cell_type": "code",
   "execution_count": null,
   "id": "3895ed82",
   "metadata": {},
   "outputs": [],
   "source": [
    "len(prod_name),len(prod_price),len(prod_rating)\n",
    "\n"
   ]
  },
  {
   "cell_type": "code",
   "execution_count": null,
   "id": "eaca607d",
   "metadata": {},
   "outputs": [],
   "source": [
    "df=pd.DataFrame({'Product Name':prod_name,'Price':prod_price,'Rating':prod_rating})\n",
    "df"
   ]
  },
  {
   "cell_type": "markdown",
   "id": "1e7ab20d",
   "metadata": {},
   "source": [
    "Q8: Write a python program to scrape data for Top 1000 Quotes of All Time.\n",
    "The above task will be done in following steps:\n",
    "1. First get the webpagehttps://www.azquotes.com/\n",
    "2. Click on TopQuotes\n",
    "3. Than scrap a) Quote b) Author c) Type Of Quotes"
   ]
  },
  {
   "cell_type": "code",
   "execution_count": null,
   "id": "d6676517",
   "metadata": {},
   "outputs": [],
   "source": [
    "driver = webdriver.Chrome()\n",
    "driver.get(\"https://www.azquotes.com/\")\n",
    "\n"
   ]
  },
  {
   "cell_type": "code",
   "execution_count": null,
   "id": "db642a24",
   "metadata": {},
   "outputs": [],
   "source": [
    "search = driver.find_element(By.XPATH,\"/html/body/div[1]/div[1]/div[1]/div/div[3]/ul/li[5]/a\")\n",
    "search.click()\n",
    "\n",
    "\n"
   ]
  },
  {
   "cell_type": "code",
   "execution_count": null,
   "id": "fe47de9b",
   "metadata": {},
   "outputs": [],
   "source": [
    "quote=[]\n",
    "authors_name=[]\n",
    "type_of_quote=[]\n",
    "\n",
    "start=0\n",
    "end=10\n",
    "for page in range(start,end):\n",
    "    name= driver.find_elements(By.XPATH,'//a[@class=\"title\"]')\n",
    "    for i in name[0:100]:\n",
    "        quote.append(i.text)\n",
    "    \n",
    "    author=driver.find_elements(By.XPATH,'//div[@class=\"author\"]')\n",
    "    for i in author[0:100]:\n",
    "        authors_name.append(i.text)\n",
    "        \n",
    "    types=driver.find_elements(By.XPATH,'//div[@class=\"tags\"]')\n",
    "    for i in types[0:100]:\n",
    "        type_of_quote.append(i.text)\n",
    "    \n",
    "    \n",
    "           \n",
    "    "
   ]
  },
  {
   "cell_type": "code",
   "execution_count": null,
   "id": "336ba9f5",
   "metadata": {},
   "outputs": [],
   "source": [
    "len(quote),len(authors_name),len(type_of_quote)\n",
    "\n"
   ]
  },
  {
   "cell_type": "code",
   "execution_count": null,
   "id": "6b7f2b2d",
   "metadata": {},
   "outputs": [],
   "source": [
    "df=pd.DataFrame({'Quote':quote,'Authors Name':authors_name,'Type Of Quote':type_of_quote})\n",
    "df"
   ]
  },
  {
   "cell_type": "markdown",
   "id": "28e13125",
   "metadata": {},
   "source": [
    "Q9: Write a python program to display list of respected former Prime Ministers of India(i.e. Name, Born-Dead,\n",
    "Term of office, Remarks) from https://www.jagranjosh.com/.\n",
    "This task will be done in following steps:\n",
    "1. First get the webpagehttps://www.jagranjosh.com/\n",
    "2. Then You have to click on the GK option\n",
    "3. Then click on the List of all Prime Ministers of India\n",
    "4. Then scrap the mentioned data and make theDataFrame"
   ]
  },
  {
   "cell_type": "code",
   "execution_count": null,
   "id": "47ae5436",
   "metadata": {},
   "outputs": [],
   "source": [
    "driver = webdriver.Chrome()\n",
    "driver.get(\"https://www.jagranjosh.com/\")"
   ]
  },
  {
   "cell_type": "code",
   "execution_count": null,
   "id": "932fcd07",
   "metadata": {},
   "outputs": [],
   "source": [
    "search = driver.find_element(By.XPATH,\"/html/body/div/header/nav/div/div/div[3]/ul/li[3]/a\")\n",
    "search.click()\n"
   ]
  },
  {
   "cell_type": "code",
   "execution_count": null,
   "id": "54790a58",
   "metadata": {},
   "outputs": [],
   "source": [
    "\n",
    "search_prime = driver.find_element(By.XPATH,\"/html/body/div[1]/div/div/div[2]/div/div[10]/div/div/ul/li[2]/a\")\n",
    "search_prime.click()\n"
   ]
  },
  {
   "cell_type": "code",
   "execution_count": null,
   "id": "a7341bb8",
   "metadata": {},
   "outputs": [],
   "source": [
    "\n",
    "data=[]\n",
    "table_data=driver.find_element(By.XPATH,'//div[@class=\"table-box\"]')\n",
    "rows = table_data.find_elements(By.TAG_NAME, \"tr\")\n",
    "\n",
    "for row in rows:\n",
    "    columns = row.find_elements(By.TAG_NAME, \"td\")\n",
    "    if len(columns) == 5:\n",
    "        name = columns[1].text\n",
    "        born_dead = columns[2].text\n",
    "        term_of_office = columns[3].text\n",
    "        remarks = columns[4].text\n",
    "        data.append([name, born_dead, term_of_office, remarks])\n",
    "        \n",
    "df = pd.DataFrame(data, columns=[\"Name\", \"Born-Dead\", \"Term of Office\", \"Remarks\"])\n",
    "df\n",
    "\n",
    "\n"
   ]
  },
  {
   "cell_type": "markdown",
   "id": "76fd7759",
   "metadata": {},
   "source": [
    "Q10: Write a python program to display list of 50 Most expensive cars in the world (i.e.\n",
    "Car name and Price) from https://www.motor1.com/\n",
    "This task will be done in following steps:\n",
    "1. First get the webpage https://www.motor1.com/\n",
    "2. Then You have to type in the search bar ’50 most expensive cars’\n",
    "3. Then click on 50 most expensive carsin the world..\n",
    "4. Then scrap the mentioned data and make the dataframe"
   ]
  },
  {
   "cell_type": "code",
   "execution_count": null,
   "id": "e88d9b24",
   "metadata": {},
   "outputs": [],
   "source": [
    "driver = webdriver.Chrome()\n",
    "driver.get(\" https://www.motor1.com/\")\n"
   ]
  },
  {
   "cell_type": "code",
   "execution_count": null,
   "id": "e2b8eaa4",
   "metadata": {},
   "outputs": [],
   "source": [
    "product_search = driver.find_element(By.XPATH,\"/html/body/div[10]/div[2]/div/div/div[3]/div/div/div/form/input\")\n",
    "product_search.send_keys(\"50 most expensive cars\")\n",
    "\n"
   ]
  },
  {
   "cell_type": "code",
   "execution_count": null,
   "id": "bc75e102",
   "metadata": {},
   "outputs": [],
   "source": [
    "\n",
    "search = driver.find_element(By.XPATH,\"/html/body/div[10]/div[2]/div/div/div[3]/div/div/div/form/button[1]\")\n",
    "search.click()"
   ]
  },
  {
   "cell_type": "code",
   "execution_count": null,
   "id": "4bdc68aa",
   "metadata": {},
   "outputs": [],
   "source": [
    "\n",
    "search = driver.find_element(By.XPATH,\"/html/body/div[10]/div[9]/div/div[1]/div/div/div[2]/div/div[1]/h3/a\")\n",
    "search.click()"
   ]
  },
  {
   "cell_type": "code",
   "execution_count": null,
   "id": "77407f69",
   "metadata": {},
   "outputs": [],
   "source": [
    "\n",
    "car_name=[]\n",
    "car_price=[]\n",
    "\n",
    "\n",
    "name = driver.find_elements(By.XPATH,'//h3[@class=\"subheader\"]')\n",
    "for i in name[0:50]:\n",
    "    car_name.append(i.text)\n",
    "    \n",
    "price=driver.find_elements(By.XPATH,'//strong')\n",
    "for i in price[0:50]:\n",
    "    car_price.append(i.text)\n",
    "    \n",
    "\n",
    "\n",
    "  \n"
   ]
  },
  {
   "cell_type": "code",
   "execution_count": null,
   "id": "7fecae27",
   "metadata": {},
   "outputs": [],
   "source": [
    "df=pd.DataFrame({'Car Names':car_name,'Car Price':car_price})\n",
    "df"
   ]
  },
  {
   "cell_type": "code",
   "execution_count": null,
   "id": "f4a68dce",
   "metadata": {},
   "outputs": [],
   "source": [
    "driver.close()"
   ]
  },
  {
   "cell_type": "code",
   "execution_count": null,
   "id": "1a7fc39d",
   "metadata": {},
   "outputs": [],
   "source": []
  }
 ],
 "metadata": {
  "kernelspec": {
   "display_name": "Python 3 (ipykernel)",
   "language": "python",
   "name": "python3"
  },
  "language_info": {
   "codemirror_mode": {
    "name": "ipython",
    "version": 3
   },
   "file_extension": ".py",
   "mimetype": "text/x-python",
   "name": "python",
   "nbconvert_exporter": "python",
   "pygments_lexer": "ipython3",
   "version": "3.9.13"
  }
 },
 "nbformat": 4,
 "nbformat_minor": 5
}
