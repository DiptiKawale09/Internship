{
 "cells": [
  {
   "cell_type": "code",
   "execution_count": 1,
   "id": "3dbd403f",
   "metadata": {},
   "outputs": [],
   "source": [
    "import re "
   ]
  },
  {
   "cell_type": "markdown",
   "id": "e38db1d7",
   "metadata": {},
   "source": [
    "Question 1- Write a Python program to replace all occurrences of a space, comma, or dot with a colon.\n",
    "Sample Text- 'Python Exercises, PHP exercises.'\n",
    "Expected Output: Python:Exercises::PHP:exercises:\n"
   ]
  },
  {
   "cell_type": "code",
   "execution_count": 2,
   "id": "864821aa",
   "metadata": {},
   "outputs": [
    {
     "name": "stdout",
     "output_type": "stream",
     "text": [
      "Python:Exercises::PHP:exercises:\n"
     ]
    }
   ],
   "source": [
    "sub1='Python Exercises, PHP exercises.'\n",
    "x=re.sub(\"[\\s,.]\",\":\",sub1)\n",
    "\n",
    "print(x)"
   ]
  },
  {
   "cell_type": "markdown",
   "id": "51958eb1",
   "metadata": {},
   "source": [
    "Question 2-  Write a Python program to find all words starting with 'a' or 'e' in a given string."
   ]
  },
  {
   "cell_type": "code",
   "execution_count": 3,
   "id": "d28b11fd",
   "metadata": {},
   "outputs": [
    {
     "name": "stdout",
     "output_type": "stream",
     "text": [
      "['am', 'eplace', 'all', 'ccurrences', 'ace']\n"
     ]
    }
   ],
   "source": [
    "sub1='Write a Python program to replace all occurrences of a space'\n",
    "x= re.findall(\"[a-e]\\w+\", sub1)\n",
    "print(x)"
   ]
  },
  {
   "cell_type": "markdown",
   "id": "91c19cc4",
   "metadata": {},
   "source": [
    "Question 3 - Create a function in python to find all words that are at least 4 characters long in a string. The use of the re.compile() method is mandatory."
   ]
  },
  {
   "cell_type": "code",
   "execution_count": 4,
   "id": "fa56ee74",
   "metadata": {},
   "outputs": [
    {
     "name": "stdout",
     "output_type": "stream",
     "text": [
      "['type', 'used']\n"
     ]
    }
   ],
   "source": [
    "string1='A spacecraft is a vehicle or machine designed to fly in outer space. A type of artificial satellite,spacecraft are used for a variety of purposes, including communications, Earth observation, meteorology, navigation, space colonization, planetary exploration, and transportation of humans and cargo.'\n",
    "string_pattern=r\"\\b\\w{4}\\b\"\n",
    "regex_pattern=re.compile(string_pattern)\n",
    "result=regex_pattern.findall(string1)\n",
    "print(result)"
   ]
  },
  {
   "cell_type": "markdown",
   "id": "cbad779b",
   "metadata": {},
   "source": [
    "Question 4- Create a function in python to find all three, four, and five character words in a string. The use of the re.compile() method is mandatory."
   ]
  },
  {
   "cell_type": "code",
   "execution_count": 5,
   "id": "6a98c4de",
   "metadata": {},
   "outputs": [
    {
     "name": "stdout",
     "output_type": "stream",
     "text": [
      "['spacecraft', 'vehicle', 'machine', 'designed', 'outer', 'space', 'type', 'artificial', 'satellite', 'spacecraft', 'used', 'variety', 'purposes', 'including', 'communications', 'Earth', 'observation', 'meteorology', 'navigation', 'space', 'colonization', 'planetary', 'exploration', 'transportation', 'humans', 'cargo']\n"
     ]
    }
   ],
   "source": [
    "string1='A spacecraft is a vehicle or machine designed to fly in outer space. A type of artificial satellite,spacecraft are used for a variety of purposes, including communications, Earth observation, meteorology, navigation, space colonization, planetary exploration, and transportation of humans and cargo.'\n",
    "string_pattern=r\"\\b\\w{4,}\\b\"\n",
    "regex_pattern=re.compile(string_pattern)\n",
    "result=regex_pattern.findall(string1)\n",
    "print(result)"
   ]
  },
  {
   "cell_type": "markdown",
   "id": "767ee6c0",
   "metadata": {},
   "source": [
    "Question 5- Create a function in Python to remove the parenthesis in a list of strings. The use of the re.compile() method is mandatory.\n",
    "Sample Text: [\"example (.com)\", \"hr@fliprobo (.com)\", \"github (.com)\", \"Hello (Data Science World)\", \"Data (Scientist)\"]\n"
   ]
  },
  {
   "cell_type": "code",
   "execution_count": 6,
   "id": "bc8e01ac",
   "metadata": {},
   "outputs": [
    {
     "name": "stdout",
     "output_type": "stream",
     "text": [
      "example  .com \n",
      "hr@fliprobo  .com \n",
      "github  .com \n",
      "Hello  Data Science World \n",
      "Data  Scientist \n"
     ]
    }
   ],
   "source": [
    "sample_text = [\"example (.com)\", \"hr@fliprobo (.com)\", \"github (.com)\", \"Hello (Data Science World)\", \"Data (Scientist)\"]\n",
    "\n",
    "regex_pattern = re.compile(r\"[()]\")\n",
    "for text in sample_text:\n",
    "    result = re.sub(regex_pattern, \" \", text)\n",
    "    print(result)"
   ]
  },
  {
   "cell_type": "markdown",
   "id": "b1bb3e47",
   "metadata": {},
   "source": [
    "Question 6- Write a python program to remove the parenthesis area from the text stored in the text file using Regular Expression.\n",
    "Sample Text: [\"example (.com)\", \"hr@fliprobo (.com)\", \"github (.com)\", \"Hello (Data Science World)\", \"Data (Scientist)\"]\n"
   ]
  },
  {
   "cell_type": "code",
   "execution_count": 7,
   "id": "f0ca592d",
   "metadata": {},
   "outputs": [
    {
     "name": "stdout",
     "output_type": "stream",
     "text": [
      "example  .com \n",
      "hr@fliprobo  .com \n",
      "github  .com \n",
      "Hello  Data Science World \n",
      "Data  Scientist \n"
     ]
    }
   ],
   "source": [
    "sample_text = [\"example (.com)\", \"hr@fliprobo (.com)\", \"github (.com)\", \"Hello (Data Science World)\", \"Data (Scientist)\"]\n",
    "\n",
    "regex_pattern = re.compile(r\"[()]\")\n",
    "for text in sample_text:\n",
    "    result = re.sub(regex_pattern, \" \", text)\n",
    "    print(result)"
   ]
  },
  {
   "cell_type": "markdown",
   "id": "3c238d03",
   "metadata": {},
   "source": [
    "Question 6: Write a python program to remove the parenthesis area from the text stored in the text file using Regular Expression.\n",
    "Sample Text: [\"example (.com)\", \"hr@fliprobo (.com)\", \"github (.com)\", \"Hello (Data Science World)\", \"Data (Scientist)\"]\n"
   ]
  },
  {
   "cell_type": "code",
   "execution_count": 8,
   "id": "4c3a0ed7",
   "metadata": {},
   "outputs": [
    {
     "name": "stdout",
     "output_type": "stream",
     "text": [
      "Original Sample:\n",
      "[\"example (.com)\", \"hr@fliprobo (.com)\", \"github (.com)\", \"Hello (Data Science World)\", \"Data (Scientist)\"]\n",
      "New Sample:\n",
      "[\"example \", \"hr@fliprobo \", \"github \", \"Hello \", \"Data \"]\n"
     ]
    }
   ],
   "source": [
    "with open(\"content/sample_text.txt\", \"r\") as file:\n",
    "    content_from_file = file.read()\n",
    "    \n",
    "    print(\"Original Sample:\")\n",
    "    print(content_from_file)\n",
    "    regex_pattern = \"\\(.*?\\)\"\n",
    "    new_content = re.sub(regex_pattern, \"\", content_from_file)\n",
    "    \n",
    "    print(\"New Sample:\")\n",
    "    print(new_content)"
   ]
  },
  {
   "cell_type": "markdown",
   "id": "4488ed47",
   "metadata": {},
   "source": [
    "Question 7- Write a regular expression in Python to split a string into uppercase letters.\n",
    "Sample text: “ImportanceOfRegularExpressionsInPython”\n"
   ]
  },
  {
   "cell_type": "code",
   "execution_count": 9,
   "id": "99cb39b5",
   "metadata": {},
   "outputs": [
    {
     "name": "stdout",
     "output_type": "stream",
     "text": [
      "['Importance', 'Of', 'Regular', 'Expressions', 'In', 'Python']\n"
     ]
    }
   ],
   "source": [
    "sample_text = \"ImportanceOfRegularExpressionsInPython\"\n",
    "pattern = \"[A-Z][^A-Z]*\"\n",
    "result = re.findall(pattern, sample_text)\n",
    "print(result)"
   ]
  },
  {
   "cell_type": "markdown",
   "id": "d77dbdb8",
   "metadata": {},
   "source": [
    "Question 8- Create a function in python to insert spaces between words starting with numbers.\n",
    "Sample Text: “RegularExpression1IsAn2ImportantTopic3InPython\"\n"
   ]
  },
  {
   "cell_type": "code",
   "execution_count": 24,
   "id": "55f26cc8",
   "metadata": {},
   "outputs": [
    {
     "name": "stdout",
     "output_type": "stream",
     "text": [
      "RegularExpression 1IsAn 2ImportantTopic 3InPython\n"
     ]
    }
   ],
   "source": [
    "sample_text = \"RegularExpression1IsAn2ImportantTopic3InPython\"\n",
    "pattern = r\"(?<=\\D)(\\d)(?=\\D)\"\n",
    "result = re.sub(pattern,r\" \\1\",sample_text)\n",
    "print(result)"
   ]
  },
  {
   "cell_type": "markdown",
   "id": "57210bf9",
   "metadata": {},
   "source": [
    "Question 9- Create a function in python to insert spaces between words starting with capital letters or with numbers.\n",
    "Sample Text: “RegularExpression1IsAn2ImportantTopic3InPython\"\n"
   ]
  },
  {
   "cell_type": "code",
   "execution_count": 33,
   "id": "c5b21d57",
   "metadata": {},
   "outputs": [
    {
     "name": "stdout",
     "output_type": "stream",
     "text": [
      "Regular Expression 1Is An 2Important Topic 3In Python\n"
     ]
    }
   ],
   "source": [
    "def insert_spaces(text):\n",
    "    output = re.sub(r\"(?<=\\D)(\\d)|(?<=[a-z])([A-Z])\", r\" \\1\\2\", text)\n",
    "    return output\n",
    "\n",
    "sample_text = \"RegularExpression1IsAn2ImportantTopic3InPython\"\n",
    "print(insert_spaces(sample_text))"
   ]
  },
  {
   "cell_type": "markdown",
   "id": "83e80460",
   "metadata": {},
   "source": [
    "Question 10- Write a python program to extract email address from the text stored in the text file using Regular Expression.\n",
    "Sample Text- Hello my name is Data Science and my email address is xyz@domain.com and alternate email address is xyz.abc@sdomain.domain.com. \n",
    "Please contact us at hr@fliprobo.com for further information. \n"
   ]
  },
  {
   "cell_type": "code",
   "execution_count": 36,
   "id": "69e80b36",
   "metadata": {},
   "outputs": [
    {
     "name": "stdout",
     "output_type": "stream",
     "text": [
      "Original Sample:\n",
      " Hello my name is Data Science and my email address is xyz@domain.com and alternate email address is xyz.abc@sdomain.domain.com. \n",
      "Please contact us at hr@fliprobo.com for further information. \n",
      "\n",
      "New Sample:\n",
      "['xyz@domain.com', 'xyz.abc@sdomain.domain.com', 'hr@fliprobo.com']\n"
     ]
    }
   ],
   "source": [
    "with open(\"content/sample2.txt\", \"r\") as file:\n",
    "    content_from_file = file.read()\n",
    "    \n",
    "    print(\"Original Sample:\")\n",
    "    print(content_from_file)\n",
    "    regex_pattern =  r\"\\b[\\w.-]+@[\\w.-]+\\.\\w+\\b\"\n",
    "\n",
    "    matches = re.findall(regex_pattern, content_from_file)\n",
    "    \n",
    "    print(\"New Sample:\")\n",
    "    print(matches)"
   ]
  },
  {
   "cell_type": "markdown",
   "id": "794124cb",
   "metadata": {},
   "source": [
    "Question 11- Write a Python program to match a string that contains only upper and lowercase letters, numbers, and underscores."
   ]
  },
  {
   "cell_type": "code",
   "execution_count": 7,
   "id": "fceba28b",
   "metadata": {},
   "outputs": [
    {
     "name": "stdout",
     "output_type": "stream",
     "text": [
      "['Hello_My_Name_is_datascience_123']\n",
      "Valid string\n"
     ]
    }
   ],
   "source": [
    "text1 = \"Hello_My_Name_is_datascience_123\"\n",
    "pattern=r\"^[A-Za-z0-9_]+$\"\n",
    "match = re.findall(pattern,text1) \n",
    "print(match)\n",
    "if match:\n",
    "    print(\"Valid string\")\n",
    "else:\n",
    "     print(\"Invalid string\")\n",
    "   \n",
    "   "
   ]
  },
  {
   "cell_type": "markdown",
   "id": "c41c4ef1",
   "metadata": {},
   "source": [
    "Question 12- Write a Python program where a string will start with a specific number. "
   ]
  },
  {
   "cell_type": "code",
   "execution_count": 21,
   "id": "d85663e9",
   "metadata": {},
   "outputs": [
    {
     "name": "stdout",
     "output_type": "stream",
     "text": [
      "['101']\n",
      "Valid string\n"
     ]
    }
   ],
   "source": [
    "text1 = \"101Hello_My_Name_is_datascience_123\"\n",
    "\n",
    "number = 101\n",
    "pattern=r\"^\" + str(number)\n",
    "match = re.findall(pattern,text1) \n",
    "print(match)\n",
    "if match:\n",
    "    print(\"Valid string\")\n",
    "else:\n",
    "     print(\"Invalid string\")"
   ]
  },
  {
   "cell_type": "markdown",
   "id": "8b67769a",
   "metadata": {},
   "source": [
    "Question 13- Write a Python program to remove leading zeros from an IP address"
   ]
  },
  {
   "cell_type": "code",
   "execution_count": 24,
   "id": "9f06f75e",
   "metadata": {},
   "outputs": [
    {
     "name": "stdout",
     "output_type": "stream",
     "text": [
      "121.8.94.187\n"
     ]
    }
   ],
   "source": [
    "ip = \"121.08.094.187\"\n",
    "string = re.sub('\\.[0]*', '.', ip)\n",
    "print(string)"
   ]
  },
  {
   "cell_type": "markdown",
   "id": "1ed6dd8a",
   "metadata": {},
   "source": [
    "Question 14- Write a regular expression in python to match a date string in the form of Month name followed by day number and year stored in a text file."
   ]
  },
  {
   "cell_type": "code",
   "execution_count": 26,
   "id": "786baf06",
   "metadata": {},
   "outputs": [
    {
     "name": "stdout",
     "output_type": "stream",
     "text": [
      "Original Sample:\n",
      "' On August 15th 1947 that India was declared independent from British colonialism, and the reins of control were handed over to the leaders of the Countryâ€™.\n",
      "[('August', '15th', '1947')]\n"
     ]
    }
   ],
   "source": [
    "with open(\"content/sample3.txt\", \"r\") as file:\n",
    "    content_from_file = file.read()\n",
    "    \n",
    "    print(\"Original Sample:\")\n",
    "    print(content_from_file)\n",
    "    string_pattern=r'\\b([A-Z][a-z]+)\\s+(\\d{1,2}\\w{2})\\s+(\\d{4})\\b'\n",
    "regex_pattern=re.compile(string_pattern)\n",
    "result=regex_pattern.findall(content_from_file)\n",
    "print(result)"
   ]
  },
  {
   "cell_type": "markdown",
   "id": "fc4fd6a7",
   "metadata": {},
   "source": [
    "Question 15- Write a Python program to search some literals strings in a string. \n",
    "Sample text : 'The quick brown fox jumps over the lazy dog.'\n",
    "Searched words : 'fox', 'dog', 'horse'\n"
   ]
  },
  {
   "cell_type": "code",
   "execution_count": 36,
   "id": "f5a5f637",
   "metadata": {},
   "outputs": [
    {
     "name": "stdout",
     "output_type": "stream",
     "text": [
      "fox found\n",
      "dog found\n",
      "horse not found\n"
     ]
    }
   ],
   "source": [
    "sample_text = 'The quick brown fox jumps over the lazy dog.'\n",
    "literals_strings = ['fox', 'dog', 'horse']\n",
    "\n",
    "words = ['fox', 'dog', 'horse']\n",
    "\n",
    "for word in literals_strings:\n",
    "    if word in sample_text:\n",
    "        print(f'{word} found')\n",
    "    else:\n",
    "        print(f'{word} not found')\n",
    "        \n",
    "    "
   ]
  },
  {
   "cell_type": "markdown",
   "id": "f768c4a1",
   "metadata": {},
   "source": [
    "Question 16- Write a Python program to search a literals string in a string and also find the location within the original string where the pattern occurs\n",
    "Sample text : 'The quick brown fox jumps over the lazy dog.'\n",
    "Searched words : 'fox'\n"
   ]
  },
  {
   "cell_type": "code",
   "execution_count": 40,
   "id": "012dcc24",
   "metadata": {},
   "outputs": [
    {
     "name": "stdout",
     "output_type": "stream",
     "text": [
      "fox found at index 16\n"
     ]
    }
   ],
   "source": [
    "sample_text = 'The quick brown fox jumps over the lazy dog.'\n",
    "literals_strings = ['fox']\n",
    "for word in literals_strings:\n",
    "    if word in sample_text:\n",
    "        print(f'{word} found at index {sample_text.index(word)}')\n",
    "    else:\n",
    "        print(f'{word} not found')\n",
    "        "
   ]
  },
  {
   "cell_type": "markdown",
   "id": "894380a1",
   "metadata": {},
   "source": [
    "Question 17- Write a Python program to find the substrings within a string.\n",
    "Sample text : 'Python exercises, PHP exercises, C# exercises'\n",
    "Pattern : 'exercises'.\n"
   ]
  },
  {
   "cell_type": "code",
   "execution_count": 41,
   "id": "6ef54f21",
   "metadata": {},
   "outputs": [
    {
     "name": "stdout",
     "output_type": "stream",
     "text": [
      "['exercises', 'exercises', 'exercises']\n"
     ]
    }
   ],
   "source": [
    "sample_text = \"Python exercises, PHP exercises, C# exercises\"\n",
    "pattern = \"exercises\"\n",
    "result = re.findall(pattern, sample_text)\n",
    "print(result)"
   ]
  },
  {
   "cell_type": "markdown",
   "id": "a616db56",
   "metadata": {},
   "source": [
    "Question 18- Write a Python program to find the occurrence and position of the substrings within a string."
   ]
  },
  {
   "cell_type": "code",
   "execution_count": 51,
   "id": "d88f292d",
   "metadata": {},
   "outputs": [
    {
     "name": "stdout",
     "output_type": "stream",
     "text": [
      "exercises found at 7 - 16\n",
      "exercises found at 22 - 31\n",
      "exercises found at 36 - 45\n"
     ]
    }
   ],
   "source": [
    "sample_text = \"Python exercises, PHP exercises, C# exercises\"\n",
    "pattern = \"exercises\"\n",
    "result = re.finditer(pattern, sample_text)\n",
    "for match in result:\n",
    "    # print the occurrence and position of the match\n",
    "    print(f'{match.group()} found at {match.start()} - {match.end()}')"
   ]
  },
  {
   "cell_type": "markdown",
   "id": "c6bdcc83",
   "metadata": {},
   "source": [
    "Question 19- Write a Python program to convert a date of yyyy-mm-dd format to dd-mm-yyyy format."
   ]
  },
  {
   "cell_type": "code",
   "execution_count": 52,
   "id": "eeac17e9",
   "metadata": {},
   "outputs": [
    {
     "name": "stdout",
     "output_type": "stream",
     "text": [
      "28-08-2023\n"
     ]
    }
   ],
   "source": [
    "date = '2023-08-28'\n",
    "pattern = r'(\\d{4})-(\\d{2})-(\\d{2})'\n",
    "repl = r'\\3-\\2-\\1'\n",
    "# use the re.sub() function to replace the matches\n",
    "new_date = re.sub(pattern, repl, date)\n",
    "# print the new date\n",
    "print(new_date)"
   ]
  },
  {
   "cell_type": "markdown",
   "id": "6049dce1",
   "metadata": {},
   "source": [
    "Question 20- Create a function in python to find all decimal numbers with a precision of 1 or 2 in a string. The use of the re.compile() method is mandatory.\n",
    "Sample Text: \"01.12 0132.123 2.31875 145.8 3.01 27.25 0.25\"\n",
    "Expected Output: ['01.12', '145.8', '3.01', '27.25', '0.25']\n"
   ]
  },
  {
   "cell_type": "code",
   "execution_count": 5,
   "id": "2ee70500",
   "metadata": {},
   "outputs": [
    {
     "name": "stdout",
     "output_type": "stream",
     "text": [
      "['01.12', '0132.12', '2.31', '145.8', '3.01', '27.25', '0.25']\n"
     ]
    }
   ],
   "source": [
    "sample_text=\"01.12 0132.123 2.31875 145.8 3.01 27.25 0.25\"\n",
    "\n",
    "regex_pattern=re.compile(r'\\d+\\.\\d{1,2}')\n",
    "result=regex_pattern.findall(sample_text)\n",
    "print(result)"
   ]
  },
  {
   "cell_type": "markdown",
   "id": "15f478e9",
   "metadata": {},
   "source": [
    "Question 21- Write a Python program to separate and print the numbers and their position of a given string."
   ]
  },
  {
   "cell_type": "code",
   "execution_count": 10,
   "id": "ad2dce4a",
   "metadata": {},
   "outputs": [
    {
     "name": "stdout",
     "output_type": "stream",
     "text": [
      "3\n",
      "Index position: 12\n",
      "2\n",
      "Index position: 231\n"
     ]
    }
   ],
   "source": [
    "text = \"Chandrayaan-3, is the third Indian lunar exploration mission under the Indian Space Research Organisation's Chandrayaan programme. It consists of a lander named Vikram and a rover named Pragyan, similar to those of the Chandrayaan-2 mission.\"\n",
    "\n",
    "for match in re.finditer(\"\\d+\", text):\n",
    "    print(match.group(0))\n",
    "    print(\"Index position:\", match.start())"
   ]
  },
  {
   "cell_type": "markdown",
   "id": "aa02dd89",
   "metadata": {},
   "source": [
    "Question 22- Write a regular expression in python program to extract maximum/largest numeric value from a string.\n",
    "Sample Text:  'My marks in each semester are: 947, 896, 926, 524, 734, 950, 642'\n",
    "Expected Output: 950\n"
   ]
  },
  {
   "cell_type": "code",
   "execution_count": 18,
   "id": "86dbe4c0",
   "metadata": {},
   "outputs": [
    {
     "name": "stdout",
     "output_type": "stream",
     "text": [
      "950\n"
     ]
    }
   ],
   "source": [
    "sample_text = 'My marks in each semester are: 947, 896, 926, 524, 734, 950, 642'\n",
    "pattern = r'\\d+'\n",
    "numbers = re.findall(pattern, sample_text)\n",
    "max_num = 0\n",
    "for num in numbers:\n",
    "  num = int(num)\n",
    "  if num > max_num:\n",
    "    max_num = num\n",
    "print(max_num)"
   ]
  },
  {
   "cell_type": "markdown",
   "id": "bb8a49e3",
   "metadata": {},
   "source": [
    "Question 23-Create a function in python to insert spaces between words starting with capital letters.\n",
    "Sample Text: “RegularExpressionIsAnImportantTopicInPython\"\n",
    "Expected Output: Regular Expression Is An Important Topic In Python\n"
   ]
  },
  {
   "cell_type": "code",
   "execution_count": 26,
   "id": "6c66b05b",
   "metadata": {},
   "outputs": [
    {
     "name": "stdout",
     "output_type": "stream",
     "text": [
      "Regular Expression Is An Important Topic In Python\n"
     ]
    }
   ],
   "source": [
    "sample_text = \"RegularExpressionIsAnImportantTopicInPython\"\n",
    "pattern = r'(\\w)([A-Z])'\n",
    "result = re.sub(pattern,r'\\1 \\2',sample_text)\n",
    "print(result)"
   ]
  },
  {
   "cell_type": "markdown",
   "id": "678f260c",
   "metadata": {},
   "source": [
    "Question 24- Python regex to find sequences of one upper case letter followed by lower case letters"
   ]
  },
  {
   "cell_type": "code",
   "execution_count": 34,
   "id": "96f3f917",
   "metadata": {},
   "outputs": [
    {
     "name": "stdout",
     "output_type": "stream",
     "text": [
      "Match found:  Regular\n",
      "Match found:  Expression\n",
      "Match found:  Is\n",
      "Match found:  An\n",
      "Match found:  Important\n",
      "Match found:  Topic\n",
      "Match found:  In\n",
      "Match found:  Python\n"
     ]
    }
   ],
   "source": [
    "sample_text = \"Regular Expression Is An Important Topic In Python\"\n",
    "pattern = r'[A-Z][a-z]+'\n",
    "result = re.search(pattern, sample_text)\n",
    "match = \"\"\n",
    "while result:\n",
    "    match = result.group()\n",
    "    print(\"Match found: \", match)\n",
    "    sample_text = sample_text.replace(match, \"\")\n",
    "    result = re.search(pattern, sample_text)\n",
    "    if match == \"\":\n",
    "        print(\"No match found\")   "
   ]
  },
  {
   "cell_type": "markdown",
   "id": "423906a4",
   "metadata": {},
   "source": [
    "Question 25- Write a Python program to remove continuous duplicate words from Sentence using Regular Expression.\n",
    "Sample Text: \"Hello hello world world\"\n",
    "Expected Output: Hello hello world\n"
   ]
  },
  {
   "cell_type": "code",
   "execution_count": 43,
   "id": "f79fcc7d",
   "metadata": {},
   "outputs": [
    {
     "name": "stdout",
     "output_type": "stream",
     "text": [
      "Hello world\n"
     ]
    }
   ],
   "source": [
    "sample_text = \"Hello hello world world\"\n",
    "pattern = r'\\b(\\w+)(?:\\W+\\1\\b)+'\n",
    "output = re.sub(pattern, r'\\1', sample_text, flags=re.IGNORECASE)\n",
    "print(output)"
   ]
  },
  {
   "cell_type": "markdown",
   "id": "78d3eba9",
   "metadata": {},
   "source": [
    "Question 26-  Write a python program using RegEx to accept string ending with alphanumeric character."
   ]
  },
  {
   "cell_type": "code",
   "execution_count": 44,
   "id": "e5a5a15e",
   "metadata": {},
   "outputs": [
    {
     "name": "stdout",
     "output_type": "stream",
     "text": [
      "Accept\n"
     ]
    }
   ],
   "source": [
    "sample_text = \"Hello123\"\n",
    "pattern = r'[a-zA-Z0-9]$'\n",
    "if re.search(pattern, sample_text):\n",
    "  print(\"Accept\")\n",
    "else:\n",
    "  print(\"Discard\")"
   ]
  },
  {
   "cell_type": "markdown",
   "id": "fddb45ce",
   "metadata": {},
   "source": [
    "Question 27-Write a python program using RegEx to extract the hashtags.\n",
    "Sample Text:  \"\"\"RT @kapil_kausik: #Doltiwal I mean #xyzabc is \"hurt\" by #Demonetization as the same has rendered USELESS <ed><U+00A0><U+00BD><ed><U+00B1><U+0089> \"acquired funds\" No wo\"\"\"\n",
    "Expected Output: ['#Doltiwal', '#xyzabc', '#Demonetization']\n"
   ]
  },
  {
   "cell_type": "markdown",
   "id": "d59b2202",
   "metadata": {},
   "source": [
    "sample_text = \"\"\"RT @kapil_kausik: #Doltiwal I mean #xyzabc is \"hurt\" by #Demonetization as the same has rendered USELESS <ed><U+00A0><U+00BD><ed><U+00B1><U+0089> \"acquired funds\" No wo\"\"\"\n",
    "pattern = r'#\\w+'\n",
    "result = re.findall(pattern, sample_text)\n",
    "print(result)"
   ]
  },
  {
   "cell_type": "markdown",
   "id": "c957f73a",
   "metadata": {},
   "source": [
    "Question 28- Write a python program using RegEx to remove <U+..> like symbols\n",
    "Check the below sample text, there are strange symbols something of the sort <U+..> all over the place. You need to come up with a general Regex expression that will cover all such symbols.\n",
    "Sample Text: \"@Jags123456 Bharat band on 28??<ed><U+00A0><U+00BD><ed><U+00B8><U+0082>Those who  are protesting #demonetization  are all different party leaders\"\n",
    "Expected Output: @Jags123456 Bharat band on 28??<ed><ed>Those who  are protesting #demonetization  are all different party leaders\n",
    "\n"
   ]
  },
  {
   "cell_type": "code",
   "execution_count": 48,
   "id": "337b8ccc",
   "metadata": {},
   "outputs": [
    {
     "name": "stdout",
     "output_type": "stream",
     "text": [
      "@Jags123456 Bharat band on 28??<ed><ed>Those who  are protesting #demonetization  are all different party leaders\n"
     ]
    }
   ],
   "source": [
    "sample_text = \"@Jags123456 Bharat band on 28??<ed><U+00A0><U+00BD><ed><U+00B8><U+0082>Those who  are protesting #demonetization  are all different party leaders\"\n",
    "pattern = r'<U\\+[^>]+>'\n",
    "result = re.sub(pattern, '', sample_text)\n",
    "print(result)"
   ]
  },
  {
   "cell_type": "markdown",
   "id": "5f0eaf20",
   "metadata": {},
   "source": [
    "Question 29- Write a python program to extract dates from the text stored in the text file.\n",
    "Sample Text: Ron was born on 12-09-1992 and he was admitted to school 15-12-1999.\n",
    "Note- Store this sample text in the file and then extract dates.\n"
   ]
  },
  {
   "cell_type": "code",
   "execution_count": 49,
   "id": "db5f4a8a",
   "metadata": {},
   "outputs": [
    {
     "name": "stdout",
     "output_type": "stream",
     "text": [
      "Original Sample:\n",
      "Ron was born on 12-09-1992 and he was admitted to school 15-12-1999.\n",
      "New Sample:\n",
      "['12-09-1992', '15-12-1999']\n"
     ]
    }
   ],
   "source": [
    "with open(\"content/sample4.txt\", \"r\") as file:\n",
    "    content_from_file = file.read()\n",
    "    \n",
    "    print(\"Original Sample:\")\n",
    "    print(content_from_file)\n",
    "    regex_pattern =  r\"\\d{2}-\\d{2}-\\d{4}\"\n",
    "\n",
    "    matches = re.findall(regex_pattern, content_from_file)\n",
    "    \n",
    "    print(\"New Sample:\")\n",
    "    print(matches)"
   ]
  },
  {
   "cell_type": "markdown",
   "id": "cb859cbe",
   "metadata": {},
   "source": [
    "Question 30- Create a function in python to remove all words from a string of length between 2 and 4.\n",
    "The use of the re.compile() method is mandatory.\n",
    "Sample Text: \"The following example creates an ArrayList with a capacity of 50 elements. 4 elements are then added to the ArrayList and the ArrayList is trimmed accordingly.\"\n",
    "Expected Output:  following example creates ArrayList a capacity elements. 4 elements added ArrayList ArrayList trimmed accordingly.\n"
   ]
  },
  {
   "cell_type": "code",
   "execution_count": 52,
   "id": "6e18b5e8",
   "metadata": {},
   "outputs": [
    {
     "name": "stdout",
     "output_type": "stream",
     "text": [
      " following example creates  ArrayList  a capacity   elements. 4 elements   added   ArrayList   ArrayList  trimmed accordingly.\n"
     ]
    }
   ],
   "source": [
    "sample_text = \"The following example creates an ArrayList with a capacity of 50 elements. 4 elements are then added to the ArrayList and the ArrayList is trimmed accordingly.\"\n",
    "pattern = re.compile(r\"\\b\\w{2,4}\\b\")\n",
    "result = pattern.sub(\"\", sample_text)\n",
    "print(result)"
   ]
  },
  {
   "cell_type": "code",
   "execution_count": null,
   "id": "357ef3ff",
   "metadata": {},
   "outputs": [],
   "source": []
  }
 ],
 "metadata": {
  "kernelspec": {
   "display_name": "Python 3 (ipykernel)",
   "language": "python",
   "name": "python3"
  },
  "language_info": {
   "codemirror_mode": {
    "name": "ipython",
    "version": 3
   },
   "file_extension": ".py",
   "mimetype": "text/x-python",
   "name": "python",
   "nbconvert_exporter": "python",
   "pygments_lexer": "ipython3",
   "version": "3.9.13"
  }
 },
 "nbformat": 4,
 "nbformat_minor": 5
}
